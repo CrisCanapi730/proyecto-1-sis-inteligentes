{
 "cells": [
  {
   "cell_type": "markdown",
   "id": "44a824dd-fbff-4ddb-8b8c-05a8bed2e59b",
   "metadata": {},
   "source": [
    "# **Reporte de Mini-Proyecto Cubo Rubik**\n",
    "\n",
    "#### **Universidad Catolica Boliviana**\n",
    "#### **Materia:** Sistemas Inteligentes\n",
    "#### **Fecha:** Marzo de 2024\n",
    "## **1. Autor: Cristian Said Canapi Madrid**\n"
   ]
  },
  {
   "cell_type": "markdown",
   "id": "3b901a10-016c-42c0-8561-795aade69a7a",
   "metadata": {},
   "source": [
    "## **2. Descripción del Proyecto**\n",
    "\n",
    "Este proyecto, desarrollado para la materia de Sistemas Inteligentes, se centra en la creación de un programa capaz de resolver un Cubo Rubik de manera óptima. El programa utiliza técnicas de inteligencia artificial, específicamente algoritmos de búsqueda en espacio de estados, para encontrar la solución al Cubo Rubik.\n",
    "\n",
    "El proyecto se compone de dos partes principales:\n",
    "\n",
    "## Clase Cubo\n",
    "\n",
    "La clase `Cubo` representa un Cubo Rubik. Cada instancia de `Cubo` tiene seis caras, cada una representada por una matriz de 3x3. Cada cara tiene un color único y se identifica por una letra, pero por cuestiones practicas para resolver el cubo se uso numeros. La clase `Cubo` también incluye una serie de métodos para manipular el cubo (girar y voltear caras) y verificar si el cubo está resuelto.\n",
    "\n",
    "## Clase Searcher\n",
    "\n",
    "La clase `Searcher` implementa dos algoritmos de búsqueda: Búsqueda en Amplitud (BFS) y A* (A-star). Ambos algoritmos toman un estado inicial (un cubo desordenado) y buscan una serie de movimientos que resuelven el cubo.\n",
    "\n",
    "- **BFS**: Este algoritmo realiza una búsqueda en amplitud en el espacio de estados del cubo. Comienza con el estado inicial y explora todos los estados vecinos (resultantes de aplicar un movimiento al estado actual). Si encuentra un estado que representa un cubo resuelto, termina y devuelve la secuencia de movimientos que llevó a ese estado.\n",
    "\n",
    "- **A***: Este algoritmo es una mejora del BFS que utiliza una función heurística para guiar la búsqueda. La función heurística estima el costo para resolver el cubo desde un estado dado. A* expande siempre el estado con el menor costo estimado, lo que a menudo resulta en encontrar la solución más rápidamente que BFS.\n",
    "\n",
    "El proyecto incluye un ejemplo de uso de la clase `Searcher` para resolver un cubo desordenado. Primero, se crea un cubo y se desordena aplicando una serie de movimientos. Luego, se crea un objeto `Searcher` y se le pide que resuelva el cubo utilizando el algoritmo A*. Finalmente, se aplican los movimientos de la solución al cubo para verificar que está resuelto.\n",
    "\n",
    "Este proyecto es un excelente ejemplo de cómo se pueden aplicar las técnicas de inteligencia artificial para resolver problemas complejos como el Cubo Rubik. Aunque el Cubo Rubik es un juguete simple, el espacio de estados que representa es enorme (más de 43 trillones de posibles configuraciones), y encontrar una solución requiere una búsqueda inteligente y eficiente. Este proyecto demuestra cómo se pueden utilizar los algoritmos de búsqueda en espacio de estados para este propósito."
   ]
  },
  {
   "cell_type": "markdown",
   "id": "be1c9917-c99c-4212-92ab-fd9dc82c130d",
   "metadata": {
    "tags": []
   },
   "source": [
    "## **3. Requerimientos del entorno de programación**\n",
    "\n",
    "Para el desarrollo y la ejecución exitosa de este proyecto de programación, se requieren las siguientes configuraciones y herramientas en el entorno de programación:\n",
    "\n",
    "3.1. **Lenguaje de Programación**: El lenguaje de programación utilizado para este proyecto es **Python 3.11.5**. Es esencial tener esta versión de Python instalada para garantizar la compatibilidad y el funcionamiento correcto del código.\n",
    "\n",
    "3.2. **Entorno de Desarrollo Integrado (IDE)**: Este proyecto se desarrolló utilizando **Anaconda Navigator 2.5.1** como IDE. Anaconda Navigator es una interfaz gráfica de usuario para la distribución de Anaconda que permite lanzar aplicaciones y gestionar paquetes, entornos y canales sin necesidad de usar la línea de comandos.\n",
    "\n",
    "3.3. **Bibliotecas de Python**: Este proyecto utiliza las siguientes bibliotecas de Python:\n",
    "    - **NumPy**: Una biblioteca para el lenguaje de programación Python que da soporte para crear vectores y matrices grandes multidimensionales, junto con una gran colección de funciones matemáticas de alto nivel para operar con estos arrays.\n",
    "    - **Queue**: Esta biblioteca proporciona la implementación de las colas para la programación en Python. Se utiliza en este proyecto para implementar la búsqueda en anchura (BFS) y la búsqueda A*.\n",
    "\n",
    "3.4. **Sistema Operativo**: Dado que Python y Anaconda Navigator son multiplataforma, este proyecto se puede desarrollar y ejecutar en cualquier sistema operativo que tenga instalados Python 3.11.5 y Anaconda Navigator 2.5.1, como Windows, macOS o Linux.\n",
    "\n",
    "Es importante tener en cuenta que las versiones exactas de Python, Anaconda Navigator y las bibliotecas son cruciales para garantizar la compatibilidad y la reproducibilidad del proyecto. Por lo tanto, se recomienda encarecidamente utilizar las versiones especificadas anteriormente."
   ]
  },
  {
   "cell_type": "markdown",
   "id": "19b32347-c5cb-4935-b332-dedd5db54809",
   "metadata": {
    "tags": []
   },
   "source": [
    "\n",
    "## 4. Manual de uso\n",
    "\n",
    "### 4.1 Formato de codificación para cargar el estado de un cubo desde el archivo de texto\n",
    "\n",
    "Para cargar el estado de un cubo desde un archivo de texto, el archivo debe estar en un formato específico. Cada línea del archivo representa una cara del cubo. Cada cara se representa con una matriz 3x3, donde cada número representa un color específico. Los números del 1 al 6 representan los colores blanco, amarillo, naranja, rojo, verde y azul, respectivamente.\n",
    "\n",
    "### 4.2 Instrucciones para ejecutar el programa\n",
    "\n",
    "Para ejecutar el programa, siga estos pasos:\n",
    "\n",
    "1. Importe la clase `Cubo` y `Searcher` de su archivo de código.\n",
    "2. Cree una instancia de la clase `Cubo`. Puede hacer esto de dos maneras:\n",
    "   - Para crear un cubo resuelto, simplemente llame al constructor sin argumentos: `cubo = Cubo()`.\n",
    "   - Para cargar un cubo desde un archivo, use el método `from_file`: `cubo = Cubo.from_file('ruta/a/tu/archivo.txt')`.\n",
    "3. Realice las acciones que desee en el cubo utilizando los métodos proporcionados por la clase `Cubo`.\n",
    "4. Para resolver el cubo llame al método `A_star` o `BFS` con el cubo y la heurística como argumentos.\n",
    "\n",
    "Aquí hay un ejemplo de cómo se vería esto:\n",
    "\n",
    "```python\n",
    "\n",
    "# Crear un cubo desde un archivo\n",
    "cubo = Cubo.from_file('ruta/a/tu/archivo.txt')\n",
    "\n",
    "# Esta es la segunda manera\n",
    "cubito = Cubo()\n",
    "```\n",
    "\n"
   ]
  },
  {
   "cell_type": "markdown",
   "id": "6d05f048-eb72-45ab-ad6c-84583b62ef2d",
   "metadata": {
    "tags": []
   },
   "source": [
    "\n",
    "## 5. Diseño e implementación\n",
    "\n",
    "### 5.1 Breve descripción del modelo del problema\n",
    "\n",
    "El problema que se aborda en este proyecto es el de resolver un cubo de Rubik. El cubo de Rubik es un rompecabezas tridimensional que consiste en girar las caras de un cubo para que cada una de ellas muestre un solo color. En este proyecto, se modela el cubo de Rubik como una serie de matrices 3x3, donde cada matriz representa una cara del cubo y cada elemento de la matriz representa un color.\n",
    "\n",
    "### 5.2 Explicación y justificación de algoritmo(s), técnicas, heurísticas seleccionadas\n",
    "\n",
    "Para resolver el cubo de Rubik, se utilizan dos algoritmos de búsqueda: la búsqueda en amplitud (BFS) y el algoritmo A*. \n",
    "\n",
    "La **búsqueda en amplitud (BFS)** es un algoritmo de búsqueda sin información que explora todos los estados del espacio de búsqueda para encontrar una solución. Este algoritmo es completo y garantiza encontrar una solución si existe, pero puede ser ineficiente ya que explora todos los estados posibles.\n",
    "\n",
    "El **algoritmo A*** es un algoritmo de búsqueda informada que utiliza una función heurística para guiar la búsqueda. La función heurística utilizada en este proyecto es una función que cuenta el número de piezas que no están en su posición correcta. Este algoritmo es más eficiente que BFS ya que no explora todos los estados del espacio de búsqueda, sino solo aquellos que parecen más prometedores según la función heurística.\n",
    "\n",
    "### 5.3 En caso de usar modelos lingüísticos, incluir los prompts clave\n",
    "\n",
    ">in the rubik cube, what are the number of states possible for a 3X3 cube ?\n",
    ">in my subject of Intelligent system i was assigned the task to solve a rubik cube using search algorithms like A*, how can i solve a rubik cube using A* ?\n",
    ">in A* we add the heuristic function to the real cost of the action, but in the cube the cost of all the actions is 1 becuase is just one movement, does this affect to the algorithm ?\n",
    ">Can you make the pseudocode for the implementation of the A* algorithm to solve this problem ?\n",
    "\n",
    "\n",
    "## 6. Trabajo Futuro\n",
    "\n",
    "### 6.1 Breve descripción del modelo del problema"
   ]
  },
  {
   "cell_type": "markdown",
   "id": "36953a10-1976-4a8f-8a36-cad05a547b30",
   "metadata": {},
   "source": []
  }
 ],
 "metadata": {
  "kernelspec": {
   "display_name": "Python 3 (ipykernel)",
   "language": "python",
   "name": "python3"
  },
  "language_info": {
   "codemirror_mode": {
    "name": "ipython",
    "version": 3
   },
   "file_extension": ".py",
   "mimetype": "text/x-python",
   "name": "python",
   "nbconvert_exporter": "python",
   "pygments_lexer": "ipython3",
   "version": "3.11.5"
  }
 },
 "nbformat": 4,
 "nbformat_minor": 5
}
